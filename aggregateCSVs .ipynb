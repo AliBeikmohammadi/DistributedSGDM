{
 "cells": [
  {
   "cell_type": "code",
   "execution_count": 1,
   "metadata": {},
   "outputs": [],
   "source": [
    "import glob\n",
    "import pandas as pd\n",
    "import os\n",
    "\n",
    "# set the path where the CSV files are stored\n",
    "#load_path = './MNISTRunPy/MNIST_CSV/'\n",
    "#save_path = './MNISTRunPy/MNIST_CSV_Aggregated/'\n",
    "\n",
    "load_path = './FashionMNISTRunPy/FashionMNIST_ResNet18_CSV/'\n",
    "save_path = './FashionMNISTRunPy/FashionMNIST_ResNet18_CSV_Aggregated/'\n",
    "\n",
    "# create a list of all CSV files in the folder\n",
    "csv_files = glob.glob(load_path + '*.csv')\n",
    "\n",
    "# loop over the CSV files and group them by hyperparameters\n",
    "file_name_list=[]\n",
    "for csv_file in csv_files:\n",
    "    # extract hyperparameters from file name\n",
    "    file_name = os.path.basename(csv_file)\n",
    "    file_name_wo_seed = file_name.split('_seed')[0]\n",
    "    file_name_list.append(file_name_wo_seed) if file_name_wo_seed not in file_name_list else file_name_list\n",
    "    \n",
    "# loop over the CSV files and group them by hyperparameters\n",
    "for i in file_name_list:\n",
    "    sameseed_files = glob.glob(load_path+i+ '*.csv')\n",
    "    # Load each CSV file into a dataframe and store it in a list\n",
    "    dfs = [pd.read_csv(filename) for filename in sameseed_files]\n",
    "    # Concatenate the dataframes into a single dataframe\n",
    "    df = pd.concat(dfs)\n",
    "    # Use groupby to calculate the average and standard deviation for each metric\n",
    "    aggregated_df = df.groupby('Unnamed: 0').agg({'train_loss': ['mean', 'std'],\n",
    "                                             'train_acc': ['mean', 'std'],\n",
    "                                             'test_loss': ['mean', 'std'],\n",
    "                                             'test_acc': ['mean', 'std']})\n",
    "    # Flatten the multi-level column index\n",
    "    aggregated_df.columns = ['_'.join(col).strip() for col in aggregated_df.columns.values]\n",
    "    # Reset the index to make the epoch column a regular column\n",
    "    aggregated_df = aggregated_df.reset_index()\n",
    "    # Save the aggregated dataframe to a new CSV file\n",
    "    isExist = os.path.exists(save_path)\n",
    "    if not isExist:\n",
    "   # Create a new directory because it does not exist\n",
    "       os.makedirs(save_path)\n",
    "    aggregated_df.to_csv(save_path+i+'.csv', index=False)"
   ]
  }
 ],
 "metadata": {
  "kernelspec": {
   "display_name": "aliOS8",
   "language": "python",
   "name": "alios8"
  },
  "language_info": {
   "codemirror_mode": {
    "name": "ipython",
    "version": 3
   },
   "file_extension": ".py",
   "mimetype": "text/x-python",
   "name": "python",
   "nbconvert_exporter": "python",
   "pygments_lexer": "ipython3",
   "version": "3.8.6"
  }
 },
 "nbformat": 4,
 "nbformat_minor": 4
}
